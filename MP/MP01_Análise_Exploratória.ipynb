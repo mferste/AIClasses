{
 "cells": [
  {
   "cell_type": "markdown",
   "metadata": {},
   "source": [
    "<H1> Análise Exploratória </H1>\n",
    "Objetivo: Um notebook contendo a análise exploratória dos dados que subsidiou o desenvolvimento do modelo preditivo;"
   ]
  },
  {
   "cell_type": "markdown",
   "metadata": {},
   "source": [
    "    -> análise estatística descritiva sobre a amostra disponibilizada;\n",
    "    -> exploração analítica por meio de bibliotecas de visualização;\n",
    "    -> passos que guiaram a seleção dos melhores atributos para o modelo; e\n",
    "    -> passos que subsidiaram possíveis transformações que se fizeram necessárias nos dados de entrada."
   ]
  },
  {
   "cell_type": "code",
   "execution_count": 2,
   "metadata": {},
   "outputs": [
    {
     "ename": "ModuleNotFoundError",
     "evalue": "No module named 'pandas_profiling'",
     "output_type": "error",
     "traceback": [
      "\u001b[0;31m---------------------------------------------------------------------------\u001b[0m",
      "\u001b[0;31mModuleNotFoundError\u001b[0m                       Traceback (most recent call last)",
      "\u001b[0;32m<ipython-input-2-5610609c5019>\u001b[0m in \u001b[0;36m<module>\u001b[0;34m\u001b[0m\n\u001b[1;32m      2\u001b[0m \u001b[0;32mimport\u001b[0m \u001b[0mnumpy\u001b[0m \u001b[0;32mas\u001b[0m \u001b[0mnp\u001b[0m\u001b[0;34m\u001b[0m\u001b[0;34m\u001b[0m\u001b[0m\n\u001b[1;32m      3\u001b[0m \u001b[0;32mimport\u001b[0m \u001b[0mpandas\u001b[0m \u001b[0;32mas\u001b[0m \u001b[0mpd\u001b[0m\u001b[0;34m\u001b[0m\u001b[0;34m\u001b[0m\u001b[0m\n\u001b[0;32m----> 4\u001b[0;31m \u001b[0;32mimport\u001b[0m \u001b[0mpandas_profiling\u001b[0m\u001b[0;34m\u001b[0m\u001b[0;34m\u001b[0m\u001b[0m\n\u001b[0m\u001b[1;32m      5\u001b[0m \u001b[0;32mimport\u001b[0m \u001b[0mmatplotlib\u001b[0m\u001b[0;34m.\u001b[0m\u001b[0mpyplot\u001b[0m \u001b[0;32mas\u001b[0m \u001b[0mplt\u001b[0m\u001b[0;34m\u001b[0m\u001b[0;34m\u001b[0m\u001b[0m\n\u001b[1;32m      6\u001b[0m \u001b[0;32mfrom\u001b[0m \u001b[0mmatplotlib\u001b[0m \u001b[0;32mimport\u001b[0m \u001b[0mrcParams\u001b[0m\u001b[0;34m\u001b[0m\u001b[0;34m\u001b[0m\u001b[0m\n",
      "\u001b[0;31mModuleNotFoundError\u001b[0m: No module named 'pandas_profiling'"
     ]
    }
   ],
   "source": [
    "# Basico\n",
    "import numpy as np \n",
    "import pandas as pd\n",
    "import pandas_profiling\n",
    "import matplotlib.pyplot as plt\n",
    "from matplotlib import rcParams\n",
    "from matplotlib.cm import rainbow\n",
    "import missingno as msno\n",
    "%matplotlib inline\n",
    "import warnings\n",
    "warnings.filterwarnings('ignore')\n",
    "# Outras bibliotecas\n",
    "from sklearn.model_selection import train_test_split\n",
    "from sklearn.preprocessing import StandardScaler\n",
    "# IA\n",
    "from sklearn.neighbors import KNeighborsClassifier\n",
    "from sklearn.svm import SVC\n",
    "from sklearn.tree import DecisionTreeClassifier\n",
    "from sklearn.ensemble import RandomForestClassifier"
   ]
  },
  {
   "cell_type": "markdown",
   "metadata": {},
   "source": [
    "<H2>Carga dos Dados</H2>"
   ]
  },
  {
   "cell_type": "code",
   "execution_count": null,
   "metadata": {},
   "outputs": [],
   "source": [
    "#CARGA DOS DADOS\n",
    "data = pd.read_csv(\n",
    "    \"heart-train.csv\",      # relative python path to subdirectory        \n",
    "    na_values=['?']       # Take any '.' or '??' values as NA\n",
    ")"
   ]
  },
  {
   "cell_type": "markdown",
   "metadata": {},
   "source": [
    "<H2> Análise Estatística</H2>"
   ]
  },
  {
   "cell_type": "markdown",
   "metadata": {},
   "source": [
    "As colunas nestes conjuntos de dados são:\n",
    "As colunas nestes conjuntos de dados são:\n",
    "\n",
    "<ul>\n",
    "<li>Paciente: identificação única do paciente no conjunto de dados </li>\n",
    "<li>Hospital: identificação do hospital em que a pessoa foi atendida</li>\n",
    "<li>Idade: idade (em anos)</li>\n",
    "<li>Sexo: sexo (F: feminino, M: masculino)</li>\n",
    "<li>TDP: tipo de dor no peito (1: angina típica, 2: angina atípica, 3: dor não anginal, 4: assintomática)</li>\n",
    "<li>PAR: pressão arterial em repouso ao chegar no hospital (em mmHg)</li>\n",
    "<li>CS: colesterol sérico (em mg/dL)</li>\n",
    "<li>ASJ: açúcar no sangue em jejum > 120 mg/dL (0: não, 1: sim)</li>\n",
    "<li>ECG: resultados eletrocardiográficos em repouso (0: normal, 1: anormalidade da onda ST-T, 2: hipertrofia ventricular esquerda)</li>\n",
    "<li>FCM: frequência cardíaca máxima alcançada</li>\n",
    "<li>AIE: angina induzida por exercício (0: não, 1: sim)</li>\n",
    "<li>DST: depressão do segmento ST induzida por exercício em relação ao repouso</li>\n",
    "<li>IST: inclinação do segmento ST do pico do exercício (1: subida, 2: plana, 3: descida)</li>\n",
    "<li>NVP: número de vasos principais (0 a 3) coloridos por fluoroscopia</li>\n",
    "<li>Talassemia: talassemia (3: normal, 6: defeito consertado, 7: defeito reversível)</li>\n",
    "<li>Diagnóstico: diagnóstico de doença cardíaca / status da doença angiográfica (A: ausência, P: presença)</li>\n",
    "</ul>"
   ]
  },
  {
   "cell_type": "code",
   "execution_count": null,
   "metadata": {},
   "outputs": [],
   "source": [
    "data.describe()"
   ]
  },
  {
   "cell_type": "code",
   "execution_count": null,
   "metadata": {},
   "outputs": [],
   "source": [
    "data"
   ]
  },
  {
   "cell_type": "code",
   "execution_count": null,
   "metadata": {},
   "outputs": [],
   "source": [
    "data.dtypes"
   ]
  },
  {
   "cell_type": "markdown",
   "metadata": {},
   "source": [
    "<h2> Conversão dos dados, os dados categóricos tem de ser convertidos em int ou float. </h2>\n"
   ]
  },
  {
   "cell_type": "code",
   "execution_count": null,
   "metadata": {},
   "outputs": [],
   "source": [
    "data['Hospital'] = data.Hospital.str.replace('C', '1')\n",
    "data['Hospital'] = data.Hospital.str.replace('H', '2')\n",
    "data['Hospital'] = data.Hospital.str.replace('S', '3')\n",
    "data['Hospital'] = data.Hospital.str.replace('V', '4')\n",
    "data['Hospital'] = data.Hospital.astype(int)\n",
    "\n",
    "data['Sexo'] = data.Sexo.str.replace('F', '1')\n",
    "data['Sexo'] = data.Sexo.str.replace('M', '2')\n",
    "data['Sexo'] = data.Sexo.astype(int)\n",
    "\n",
    "data['Diagnóstico'] = data.Diagnóstico.str.replace('A', '0')\n",
    "data['Diagnóstico'] = data.Diagnóstico.str.replace('P', '1')\n",
    "data['Diagnóstico'] = data.Diagnóstico.astype(int)\n"
   ]
  },
  {
   "cell_type": "code",
   "execution_count": null,
   "metadata": {},
   "outputs": [],
   "source": [
    "data.describe()"
   ]
  },
  {
   "cell_type": "markdown",
   "metadata": {},
   "source": [
    "count: quanto maior esse número, maior credibilidade todas as estatísticas terão.\n",
    "\n",
    "mean: é a média e é o valor \"esperado\" da distribuição. Em média, você esperaria obter esse número.\n",
    "\n",
    "std: informa o tamanho das oscilações dos dados em relação à média. Especificamente, é o desvio médio quadrático da média ou variância.\n",
    "Quanto menor é a variância, mais próximos os valores estão da média; mas quanto maior ela é, mais os valores estão distantes da média.\n",
    "\n",
    "\n",
    "50% também é a mediana e sua diferença em relação à média fornece informações sobre a inclinação da distribuição. Também é outra definição de média que é robusta para discrepantes nos dados.\n",
    "\n",
    "25% e 75% dão perspectiva sobre a curtose. Além disso, todos os números percentuais são geralmente mais robustos para os valores discrepantes.\n",
    "\n",
    "min, max, max - min, 75% - 25% são alternativas para perspectivas de quão grande é a variação dos dados em relação à média"
   ]
  },
  {
   "cell_type": "code",
   "execution_count": null,
   "metadata": {},
   "outputs": [],
   "source": [
    "data.hist()"
   ]
  },
  {
   "cell_type": "code",
   "execution_count": null,
   "metadata": {},
   "outputs": [],
   "source": [
    "msno.matrix(data)"
   ]
  },
  {
   "cell_type": "code",
   "execution_count": null,
   "metadata": {},
   "outputs": [],
   "source": [
    "data.isnull().sum()"
   ]
  },
  {
   "cell_type": "code",
   "execution_count": null,
   "metadata": {},
   "outputs": [],
   "source": [
    "#Diagnóstico, demonstrando se um o resultado está equilibrado quando ao diagnóstico\n",
    "rcParams['figure.figsize'] = 8,6\n",
    "plt.bar(data['Diagnóstico'].unique(), data['Diagnóstico'].value_counts(), color = ['red', 'green'])\n",
    "plt.xticks([0,1])\n",
    "plt.xlabel('Diagnóstico')"
   ]
  },
  {
   "cell_type": "code",
   "execution_count": null,
   "metadata": {},
   "outputs": [],
   "source": [
    "data.profile_report(style={'full_width':True})"
   ]
  },
  {
   "cell_type": "code",
   "execution_count": null,
   "metadata": {},
   "outputs": [],
   "source": [
    "#dummies \n",
    "data = pd.get_dummies(data, columns = ['Sexo'])\n",
    "\n",
    "from sklearn.impute import SimpleImputer \n",
    "imputer = SimpleImputer(strategy=\"most_frequent\")\n",
    "data.dtypes\n",
    "data = data.fillna(data.agg(lambda x: pd.Series.mode(x)[0], axis=0))\n",
    "\n",
    "\n"
   ]
  },
  {
   "cell_type": "code",
   "execution_count": null,
   "metadata": {},
   "outputs": [],
   "source": [
    "# TODO\n",
    "# TDP\n",
    "# PAR\n",
    "# CS\n",
    "# ASJ\n",
    "# ECG\n",
    "# FCM\n",
    "# AIE -> mais comum - média\n",
    "# DST\n",
    "# IST -> retirar\n",
    "# NVP -> retirar"
   ]
  },
  {
   "cell_type": "code",
   "execution_count": null,
   "metadata": {},
   "outputs": [],
   "source": [
    "#escalar\n",
    "# standardScaler = StandardScaler() #MinMaxScaler()\n",
    "# columns_to_scale = ['TDP', 'PAR','CS', 'ASJ', 'ECG', 'FCM', 'AIE', 'DST', 'IST', 'NVP']\n",
    "# data[columns_to_scale] = standardScaler.fit_transform(data[columns_to_scale])"
   ]
  },
  {
   "cell_type": "code",
   "execution_count": null,
   "metadata": {},
   "outputs": [],
   "source": [
    "data"
   ]
  },
  {
   "cell_type": "code",
   "execution_count": null,
   "metadata": {},
   "outputs": [],
   "source": []
  }
 ],
 "metadata": {
  "kernelspec": {
   "display_name": "Python 3",
   "language": "python",
   "name": "python3"
  },
  "language_info": {
   "codemirror_mode": {
    "name": "ipython",
    "version": 3
   },
   "file_extension": ".py",
   "mimetype": "text/x-python",
   "name": "python",
   "nbconvert_exporter": "python",
   "pygments_lexer": "ipython3",
   "version": "3.7.9"
  }
 },
 "nbformat": 4,
 "nbformat_minor": 2
}

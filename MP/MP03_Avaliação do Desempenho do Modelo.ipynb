{
 "cells": [
  {
   "cell_type": "markdown",
   "metadata": {},
   "source": [
    "<H1> Avaliação de desempenho do modelo </H1>\n",
    "Objetivo: Avaliação do desempenho do melhor algoritmo escolhdo em MP02;"
   ]
  },
  {
   "cell_type": "markdown",
   "metadata": {},
   "source": [
    "<p>-> cálculos de sensibilidade e especificidade;\n",
    "<p>-> matriz de confusão;\n",
    "<p>-> curvas ROC e AUC; \n",
    "<p>-> conclusões acerca da performance do modelo preditivo."
   ]
  },
  {
   "cell_type": "markdown",
   "metadata": {},
   "source": [
    "Ref\n",
    "https://github.com/ishaandey/Classification_Evaluation_Walkthrough/blob/master/Classification_Evaluation.ipynb\n",
    "https://towardsdatascience.com/credit-card-fraud-detection-a1c7e1b75f59\n",
    "    "
   ]
  },
  {
   "cell_type": "code",
   "execution_count": 80,
   "metadata": {},
   "outputs": [],
   "source": [
    "# Basico\n",
    "import numpy as np \n",
    "import pandas as pd\n",
    "import matplotlib.pyplot as plt\n",
    "from matplotlib import rcParams\n",
    "from matplotlib.cm import rainbow\n",
    "%matplotlib inline\n",
    "import warnings\n",
    "import joblib\n",
    "import pickle\n",
    "import seaborn as sns\n",
    "from sklearn.dummy import DummyClassifier\n",
    "from timeit import default_timer as timer\n",
    "from sklearn.preprocessing import StandardScaler\n",
    "from sklearn.metrics import *\n",
    "from sklearn.model_selection import train_test_split\n",
    "from inspect import signature\n",
    "#from pandas_ml import ConfusionMatrix\n",
    "warnings.filterwarnings('ignore')"
   ]
  },
  {
   "cell_type": "markdown",
   "metadata": {},
   "source": [
    "<H2>Carga dos Dados</H2>"
   ]
  },
  {
   "cell_type": "code",
   "execution_count": 41,
   "metadata": {},
   "outputs": [],
   "source": [
    "#CARGA DOS DADOS\n",
    "\n",
    "data = pd.read_csv(\n",
    "    \"heart-train.csv\",           \n",
    "    na_values=['?']      \n",
    ")\n",
    "\n",
    "data['Hospital'] = data.Hospital.str.replace('C', '1')\n",
    "data['Hospital'] = data.Hospital.str.replace('H', '2')\n",
    "data['Hospital'] = data.Hospital.str.replace('S', '3')\n",
    "data['Hospital'] = data.Hospital.str.replace('V', '4')\n",
    "data['Hospital'] = data.Hospital.astype(int)\n",
    "\n",
    "data['Sexo'] = data.Sexo.str.replace('F', '1')\n",
    "data['Sexo'] = data.Sexo.str.replace('M', '2')\n",
    "data['Sexo'] = data.Sexo.astype(int)\n",
    "\n",
    "data['Diagnóstico'] = data.Diagnóstico.str.replace('A', '0')\n",
    "data['Diagnóstico'] = data.Diagnóstico.str.replace('P', '1')\n",
    "data['Diagnóstico'] = data.Diagnóstico.astype(int)\n",
    "\n",
    "#dummies \n",
    "data = pd.get_dummies(data, columns = ['Sexo'])\n",
    "#escalar\n",
    "standardScaler = StandardScaler() #MinMaxScaler()\n",
    "columns_to_scale = ['TDP', 'PAR','CS', 'ASJ', 'ECG', 'FCM', 'AIE', 'DST', 'IST', 'NVP']\n",
    "data[columns_to_scale] = standardScaler.fit_transform(data[columns_to_scale])\n",
    "#para usar depois no REST\n",
    "scaler_filename = \"scaler.save\"\n",
    "joblib.dump(standardScaler, scaler_filename) \n",
    "\n",
    "from sklearn.impute import SimpleImputer \n",
    "imputer = SimpleImputer(strategy=\"most_frequent\")\n",
    "data.dtypes\n",
    "data = data.fillna(data.agg(lambda x: pd.Series.mode(x)[0], axis=0))\n",
    "\n",
    "# criando a tabela de treinamento e de validação\n",
    "y = data['Diagnóstico']\n",
    "X = data.drop(['Diagnóstico'], axis = 1)\n",
    "X = X.drop(['Paciente'], axis = 1)\n",
    "X_train, X_test, y_train, y_test = train_test_split(X, y, test_size = 0.33, random_state = 0)"
   ]
  },
  {
   "cell_type": "code",
   "execution_count": 42,
   "metadata": {},
   "outputs": [
    {
     "data": {
      "text/html": [
       "<div>\n",
       "<style scoped>\n",
       "    .dataframe tbody tr th:only-of-type {\n",
       "        vertical-align: middle;\n",
       "    }\n",
       "\n",
       "    .dataframe tbody tr th {\n",
       "        vertical-align: top;\n",
       "    }\n",
       "\n",
       "    .dataframe thead th {\n",
       "        text-align: right;\n",
       "    }\n",
       "</style>\n",
       "<table border=\"1\" class=\"dataframe\">\n",
       "  <thead>\n",
       "    <tr style=\"text-align: right;\">\n",
       "      <th></th>\n",
       "      <th>Paciente</th>\n",
       "      <th>Hospital</th>\n",
       "      <th>Idade</th>\n",
       "      <th>TDP</th>\n",
       "      <th>PAR</th>\n",
       "      <th>CS</th>\n",
       "      <th>ASJ</th>\n",
       "      <th>ECG</th>\n",
       "      <th>FCM</th>\n",
       "      <th>AIE</th>\n",
       "      <th>DST</th>\n",
       "      <th>IST</th>\n",
       "      <th>NVP</th>\n",
       "      <th>Talassemia</th>\n",
       "      <th>Diagnóstico</th>\n",
       "      <th>Sexo_1</th>\n",
       "      <th>Sexo_2</th>\n",
       "    </tr>\n",
       "  </thead>\n",
       "  <tbody>\n",
       "    <tr>\n",
       "      <td>0</td>\n",
       "      <td>262</td>\n",
       "      <td>1</td>\n",
       "      <td>60</td>\n",
       "      <td>-2.516091</td>\n",
       "      <td>0.979524</td>\n",
       "      <td>0.357099</td>\n",
       "      <td>-0.464095</td>\n",
       "      <td>-0.752935</td>\n",
       "      <td>1.312273</td>\n",
       "      <td>-0.797074</td>\n",
       "      <td>0.026731</td>\n",
       "      <td>-1.245081</td>\n",
       "      <td>-0.729114</td>\n",
       "      <td>3.0</td>\n",
       "      <td>0</td>\n",
       "      <td>1</td>\n",
       "      <td>0</td>\n",
       "    </tr>\n",
       "    <tr>\n",
       "      <td>1</td>\n",
       "      <td>520</td>\n",
       "      <td>2</td>\n",
       "      <td>54</td>\n",
       "      <td>0.810358</td>\n",
       "      <td>-0.408751</td>\n",
       "      <td>0.215044</td>\n",
       "      <td>-0.464095</td>\n",
       "      <td>-0.752935</td>\n",
       "      <td>-0.549091</td>\n",
       "      <td>-0.797074</td>\n",
       "      <td>1.028588</td>\n",
       "      <td>0.406727</td>\n",
       "      <td>-0.729114</td>\n",
       "      <td>7.0</td>\n",
       "      <td>1</td>\n",
       "      <td>0</td>\n",
       "      <td>1</td>\n",
       "    </tr>\n",
       "    <tr>\n",
       "      <td>2</td>\n",
       "      <td>264</td>\n",
       "      <td>1</td>\n",
       "      <td>61</td>\n",
       "      <td>0.810358</td>\n",
       "      <td>0.313152</td>\n",
       "      <td>-0.299905</td>\n",
       "      <td>-0.464095</td>\n",
       "      <td>1.720415</td>\n",
       "      <td>-0.435130</td>\n",
       "      <td>1.254588</td>\n",
       "      <td>2.485835</td>\n",
       "      <td>0.406727</td>\n",
       "      <td>0.283816</td>\n",
       "      <td>3.0</td>\n",
       "      <td>1</td>\n",
       "      <td>0</td>\n",
       "      <td>1</td>\n",
       "    </tr>\n",
       "    <tr>\n",
       "      <td>3</td>\n",
       "      <td>674</td>\n",
       "      <td>3</td>\n",
       "      <td>60</td>\n",
       "      <td>-0.298458</td>\n",
       "      <td>-0.964061</td>\n",
       "      <td>-1.773725</td>\n",
       "      <td>-0.464095</td>\n",
       "      <td>-0.752935</td>\n",
       "      <td>0.248636</td>\n",
       "      <td>-0.797074</td>\n",
       "      <td>1.392900</td>\n",
       "      <td>-1.245081</td>\n",
       "      <td>-0.729114</td>\n",
       "      <td>7.0</td>\n",
       "      <td>1</td>\n",
       "      <td>0</td>\n",
       "      <td>1</td>\n",
       "    </tr>\n",
       "    <tr>\n",
       "      <td>4</td>\n",
       "      <td>102</td>\n",
       "      <td>1</td>\n",
       "      <td>57</td>\n",
       "      <td>0.810358</td>\n",
       "      <td>-0.242158</td>\n",
       "      <td>0.916440</td>\n",
       "      <td>-0.464095</td>\n",
       "      <td>1.720415</td>\n",
       "      <td>0.856429</td>\n",
       "      <td>-0.797074</td>\n",
       "      <td>-0.792970</td>\n",
       "      <td>-1.245081</td>\n",
       "      <td>0.283816</td>\n",
       "      <td>3.0</td>\n",
       "      <td>0</td>\n",
       "      <td>1</td>\n",
       "      <td>0</td>\n",
       "    </tr>\n",
       "    <tr>\n",
       "      <td>...</td>\n",
       "      <td>...</td>\n",
       "      <td>...</td>\n",
       "      <td>...</td>\n",
       "      <td>...</td>\n",
       "      <td>...</td>\n",
       "      <td>...</td>\n",
       "      <td>...</td>\n",
       "      <td>...</td>\n",
       "      <td>...</td>\n",
       "      <td>...</td>\n",
       "      <td>...</td>\n",
       "      <td>...</td>\n",
       "      <td>...</td>\n",
       "      <td>...</td>\n",
       "      <td>...</td>\n",
       "      <td>...</td>\n",
       "      <td>...</td>\n",
       "    </tr>\n",
       "    <tr>\n",
       "      <td>608</td>\n",
       "      <td>714</td>\n",
       "      <td>3</td>\n",
       "      <td>69</td>\n",
       "      <td>0.810358</td>\n",
       "      <td>-0.686406</td>\n",
       "      <td>-1.773725</td>\n",
       "      <td>-0.464095</td>\n",
       "      <td>0.483740</td>\n",
       "      <td>-0.625065</td>\n",
       "      <td>-0.797074</td>\n",
       "      <td>-0.792970</td>\n",
       "      <td>0.406727</td>\n",
       "      <td>-0.729114</td>\n",
       "      <td>7.0</td>\n",
       "      <td>1</td>\n",
       "      <td>0</td>\n",
       "      <td>1</td>\n",
       "    </tr>\n",
       "    <tr>\n",
       "      <td>609</td>\n",
       "      <td>103</td>\n",
       "      <td>1</td>\n",
       "      <td>71</td>\n",
       "      <td>-0.298458</td>\n",
       "      <td>-1.241716</td>\n",
       "      <td>0.579060</td>\n",
       "      <td>2.154729</td>\n",
       "      <td>1.720415</td>\n",
       "      <td>-0.245195</td>\n",
       "      <td>-0.797074</td>\n",
       "      <td>-0.792970</td>\n",
       "      <td>-1.245081</td>\n",
       "      <td>0.283816</td>\n",
       "      <td>3.0</td>\n",
       "      <td>0</td>\n",
       "      <td>1</td>\n",
       "      <td>0</td>\n",
       "    </tr>\n",
       "    <tr>\n",
       "      <td>610</td>\n",
       "      <td>854</td>\n",
       "      <td>4</td>\n",
       "      <td>55</td>\n",
       "      <td>0.810358</td>\n",
       "      <td>2.201206</td>\n",
       "      <td>0.534667</td>\n",
       "      <td>-0.464095</td>\n",
       "      <td>-0.752935</td>\n",
       "      <td>-2.410456</td>\n",
       "      <td>-0.797074</td>\n",
       "      <td>1.028588</td>\n",
       "      <td>0.406727</td>\n",
       "      <td>-0.729114</td>\n",
       "      <td>7.0</td>\n",
       "      <td>1</td>\n",
       "      <td>0</td>\n",
       "      <td>1</td>\n",
       "    </tr>\n",
       "    <tr>\n",
       "      <td>611</td>\n",
       "      <td>619</td>\n",
       "      <td>3</td>\n",
       "      <td>47</td>\n",
       "      <td>0.810358</td>\n",
       "      <td>-1.241716</td>\n",
       "      <td>-1.773725</td>\n",
       "      <td>-0.464095</td>\n",
       "      <td>0.483740</td>\n",
       "      <td>0.476559</td>\n",
       "      <td>-0.797074</td>\n",
       "      <td>1.119666</td>\n",
       "      <td>-1.245081</td>\n",
       "      <td>-0.729114</td>\n",
       "      <td>7.0</td>\n",
       "      <td>1</td>\n",
       "      <td>0</td>\n",
       "      <td>1</td>\n",
       "    </tr>\n",
       "    <tr>\n",
       "      <td>612</td>\n",
       "      <td>173</td>\n",
       "      <td>1</td>\n",
       "      <td>62</td>\n",
       "      <td>0.810358</td>\n",
       "      <td>0.424214</td>\n",
       "      <td>1.724378</td>\n",
       "      <td>-0.464095</td>\n",
       "      <td>1.720415</td>\n",
       "      <td>0.780455</td>\n",
       "      <td>-0.797074</td>\n",
       "      <td>0.299965</td>\n",
       "      <td>0.406727</td>\n",
       "      <td>-0.729114</td>\n",
       "      <td>3.0</td>\n",
       "      <td>0</td>\n",
       "      <td>1</td>\n",
       "      <td>0</td>\n",
       "    </tr>\n",
       "  </tbody>\n",
       "</table>\n",
       "<p>613 rows × 17 columns</p>\n",
       "</div>"
      ],
      "text/plain": [
       "     Paciente  Hospital  Idade       TDP       PAR        CS       ASJ  \\\n",
       "0         262         1     60 -2.516091  0.979524  0.357099 -0.464095   \n",
       "1         520         2     54  0.810358 -0.408751  0.215044 -0.464095   \n",
       "2         264         1     61  0.810358  0.313152 -0.299905 -0.464095   \n",
       "3         674         3     60 -0.298458 -0.964061 -1.773725 -0.464095   \n",
       "4         102         1     57  0.810358 -0.242158  0.916440 -0.464095   \n",
       "..        ...       ...    ...       ...       ...       ...       ...   \n",
       "608       714         3     69  0.810358 -0.686406 -1.773725 -0.464095   \n",
       "609       103         1     71 -0.298458 -1.241716  0.579060  2.154729   \n",
       "610       854         4     55  0.810358  2.201206  0.534667 -0.464095   \n",
       "611       619         3     47  0.810358 -1.241716 -1.773725 -0.464095   \n",
       "612       173         1     62  0.810358  0.424214  1.724378 -0.464095   \n",
       "\n",
       "          ECG       FCM       AIE       DST       IST       NVP  Talassemia  \\\n",
       "0   -0.752935  1.312273 -0.797074  0.026731 -1.245081 -0.729114         3.0   \n",
       "1   -0.752935 -0.549091 -0.797074  1.028588  0.406727 -0.729114         7.0   \n",
       "2    1.720415 -0.435130  1.254588  2.485835  0.406727  0.283816         3.0   \n",
       "3   -0.752935  0.248636 -0.797074  1.392900 -1.245081 -0.729114         7.0   \n",
       "4    1.720415  0.856429 -0.797074 -0.792970 -1.245081  0.283816         3.0   \n",
       "..        ...       ...       ...       ...       ...       ...         ...   \n",
       "608  0.483740 -0.625065 -0.797074 -0.792970  0.406727 -0.729114         7.0   \n",
       "609  1.720415 -0.245195 -0.797074 -0.792970 -1.245081  0.283816         3.0   \n",
       "610 -0.752935 -2.410456 -0.797074  1.028588  0.406727 -0.729114         7.0   \n",
       "611  0.483740  0.476559 -0.797074  1.119666 -1.245081 -0.729114         7.0   \n",
       "612  1.720415  0.780455 -0.797074  0.299965  0.406727 -0.729114         3.0   \n",
       "\n",
       "     Diagnóstico  Sexo_1  Sexo_2  \n",
       "0              0       1       0  \n",
       "1              1       0       1  \n",
       "2              1       0       1  \n",
       "3              1       0       1  \n",
       "4              0       1       0  \n",
       "..           ...     ...     ...  \n",
       "608            1       0       1  \n",
       "609            0       1       0  \n",
       "610            1       0       1  \n",
       "611            1       0       1  \n",
       "612            0       1       0  \n",
       "\n",
       "[613 rows x 17 columns]"
      ]
     },
     "execution_count": 42,
     "metadata": {},
     "output_type": "execute_result"
    }
   ],
   "source": [
    "data"
   ]
  },
  {
   "cell_type": "code",
   "execution_count": 43,
   "metadata": {},
   "outputs": [
    {
     "name": "stdout",
     "output_type": "stream",
     "text": [
      "Tipos de Diagnósticos\n",
      "1    350\n",
      "0    263\n",
      "Name: Diagnóstico, dtype: int64\n",
      "\n",
      "Proporções\n",
      "1    0.570962\n",
      "0    0.429038\n",
      "Name: Diagnóstico, dtype: float64\n"
     ]
    }
   ],
   "source": [
    "#Showing the breakdown of the distribution of classes\n",
    "\n",
    "print(\"Tipos de Diagnósticos\")\n",
    "print(y.value_counts(), end=\"\\n\\n\")\n",
    "print(\"Proporções\")\n",
    "print(y.value_counts()/len(y))"
   ]
  },
  {
   "cell_type": "code",
   "execution_count": 44,
   "metadata": {},
   "outputs": [
    {
     "data": {
      "image/png": "[encoded data removed]",
      "text/plain": [
       "<Figure size 432x288 with 1 Axes>"
      ]
     },
     "metadata": {
      "needs_background": "light"
     },
     "output_type": "display_data"
    }
   ],
   "source": [
    "colors = ['red','green']\n",
    "sns.xkcd_palette(colors)\n",
    "sns.color_palette(colors)\n",
    "bp = sns.countplot(x=data[\"Diagnóstico\"])\n",
    "plt.title(\"Diferentes Diagnósticos\")\n",
    "bp.set_xticklabels([\"Ausente\",\"Presente\"])\n",
    "plt.show()"
   ]
  },
  {
   "cell_type": "code",
   "execution_count": 45,
   "metadata": {},
   "outputs": [
    {
     "name": "stdout",
     "output_type": "stream",
     "text": [
      "0.8325123152709359\n"
     ]
    }
   ],
   "source": [
    "filename = 'model.pkl'\n",
    "model = pickle.load(open(filename, 'rb'))\n",
    "result = model.score(X_test, y_test)\n",
    "print(result)"
   ]
  },
  {
   "cell_type": "code",
   "execution_count": 46,
   "metadata": {},
   "outputs": [
    {
     "name": "stdout",
     "output_type": "stream",
     "text": [
      "0.8325123152709359\n"
     ]
    }
   ],
   "source": [
    "model.fit(X_train, y_train)\n",
    "result = model.score(X_test, y_test)\n",
    "print(result)"
   ]
  },
  {
   "cell_type": "code",
   "execution_count": 51,
   "metadata": {},
   "outputs": [],
   "source": [
    "pred = model.predict(X_test)\n",
    "pred_prob = model.predict_proba(X_test)\n",
    "#dummy classifier para presente\n",
    "dummy = DummyClassifier(strategy=\"most_frequent\")\n",
    "dumb = dummy.fit(X_train,y_train)\n",
    "dumb_pred = dumb.predict(X_test)\n",
    "dumb_pred_prob = dumb.predict_proba(X_test)"
   ]
  },
  {
   "cell_type": "code",
   "execution_count": 52,
   "metadata": {},
   "outputs": [
    {
     "name": "stdout",
     "output_type": "stream",
     "text": [
      "Proporção de previsões como Presente  0.5763546798029556\n",
      "Acurácia = 0.8325123152709359\n",
      "\n",
      "Proporção de previsões como Presente (Dummy Classifer) =  1.0\n",
      "Acurácia (Dummy Classifier) = 0.5467980295566502\n"
     ]
    }
   ],
   "source": [
    "print(\"Proporção de previsões como Presente \", pred.mean())\n",
    "print(\"Acurácia =\", model.score(X_test,y_test), end=\"\\n\\n\")\n",
    "\n",
    "#The dummy model predicted that 0% of the data is fraud\n",
    "print(\"Proporção de previsões como Presente (Dummy Classifer) = \", dumb_pred.mean())\n",
    "print(\"Acurácia (Dummy Classifier) =\", dumb.score(dumb_pred,y_test))"
   ]
  },
  {
   "cell_type": "code",
   "execution_count": 64,
   "metadata": {},
   "outputs": [
    {
     "data": {
      "image/png": "[encoded data removed]",
      "text/plain": [
       "<Figure size 432x432 with 1 Axes>"
      ]
     },
     "metadata": {
      "needs_background": "light"
     },
     "output_type": "display_data"
    }
   ],
   "source": [
    "#Building Confusion matrix: Logistic - Thresh=0.5 - Counts\n",
    "cm_dummy = confusion_matrix(y_test, dumb_pred)\n",
    "cm_dummy_df = pd.DataFrame(cm_dummy)\n",
    "fig, ax = plt.subplots(figsize = (6,6))\n",
    "sns.heatmap(cm_dummy_df.T, annot=True, annot_kws={\"size\": 15}, cmap=\"Purples\", vmin=0, vmax=800, fmt='.0f', linewidths=1, linecolor=\"white\", cbar=False,\n",
    "           xticklabels=[\"Ausente\",\"Presente\"], yticklabels=[\"Ausente\",\"Presente\"])\n",
    "plt.ylabel(\"Predição\", fontsize=15)\n",
    "plt.xlabel(\"Atual\", fontsize=15)\n",
    "ax.set_xticklabels([\"Ausente\",\"Presente\"], fontsize=13)\n",
    "ax.set_yticklabels([\"Ausente\",\"Presente\"], fontsize=13)\n",
    "plt.title(\"Matriz de confusão for 'Dummy' Classifier\", fontsize=15)\n",
    "plt.show()"
   ]
  },
  {
   "cell_type": "code",
   "execution_count": 67,
   "metadata": {},
   "outputs": [
    {
     "data": {
      "image/png": "[encoded data removed]",
      "text/plain": [
       "<Figure size 432x432 with 1 Axes>"
      ]
     },
     "metadata": {
      "needs_background": "light"
     },
     "output_type": "display_data"
    }
   ],
   "source": [
    "#Building Confusion matrix: Logistic - Thresh=0.5 - Counts\n",
    "#generate confusion matrix\n",
    "cm_logis = confusion_matrix(y_test,pred)\n",
    "#put it into a dataframe\n",
    "cm_logis_df = pd.DataFrame(cm_logis)\n",
    "#plot CM\n",
    "fig, ax = plt.subplots(figsize = (6,6))\n",
    "sns.heatmap(pd.DataFrame(cm_logis_df.T), annot=True, annot_kws={\"size\": 15}, cmap=\"Purples\", vmin=0, vmax=500, fmt='.0f', linewidths=1, linecolor=\"white\", cbar=False,\n",
    "           xticklabels=[\"Ausente\",\"Presente\"], yticklabels=[\"Ausente\",\"Presente\"])\n",
    "plt.ylabel(\"Predição\", fontsize=15)\n",
    "plt.xlabel(\"Atual\", fontsize=15)\n",
    "ax.set_xticklabels([\"Ausente\",\"Presente\"], fontsize=13)\n",
    "ax.set_yticklabels([\"Ausente\",\"Presente\"], fontsize=13)\n",
    "plt.title(\"Matriz de Confusão Logistic Classifier (Threshold = 0.5) - Counts\", fontsize=15)\n",
    "plt.show()"
   ]
  },
  {
   "cell_type": "code",
   "execution_count": 68,
   "metadata": {},
   "outputs": [
    {
     "data": {
      "image/png": "[encoded data removed]",
      "text/plain": [
       "<Figure size 432x432 with 1 Axes>"
      ]
     },
     "metadata": {
      "needs_background": "light"
     },
     "output_type": "display_data"
    }
   ],
   "source": [
    "#Generating a Confusion matrix of proportions for logistic model\n",
    "#converting counts to proportions\n",
    "cm_logis = cm_logis.astype('float') / cm_logis.sum(axis=1)[:, np.newaxis]\n",
    "cm_logis_df = pd.DataFrame(cm_logis)\n",
    "fig, ax = plt.subplots(figsize = (6,6))\n",
    "sns.heatmap(pd.DataFrame(cm_logis_df.T), annot=True, annot_kws={\"size\": 15}, cmap=\"Purples\", vmin=0, vmax=1, fmt='.3f', linewidths=1, linecolor=\"white\", cbar=False,\n",
    "           xticklabels=[\"Ausente\",\"Presente\"], yticklabels=[\"Ausente\",\"Presente\"])\n",
    "plt.ylabel(\"Predição\", fontsize=15)\n",
    "plt.xlabel(\"Atual\", fontsize=15)\n",
    "ax.set_xticklabels([\"Ausente\",\"Presente\"], fontsize=13)\n",
    "ax.set_yticklabels([\"Ausente\",\"Presente\"], fontsize=13)\n",
    "plt.title(\"Matriz de Confusão para Logistic Classifier (Threshold = 0.5) - Proportions\", fontsize=15)\n",
    "\n",
    "plt.show()\n"
   ]
  },
  {
   "cell_type": "code",
   "execution_count": 70,
   "metadata": {},
   "outputs": [
    {
     "name": "stdout",
     "output_type": "stream",
     "text": [
      "LogReg Model:\n",
      "Acurácia = 0.833\n",
      "Precisão = 0.829\n",
      "Especificidade = 0.874\n",
      "Recall = 0.874\n",
      "F1-score = 0.851\n"
     ]
    }
   ],
   "source": [
    "#generating a report to extract the measure of interest using built-in sklearn function\n",
    "report = classification_report(y_test,pred,digits=3,output_dict = True)\n",
    "\n",
    "print(\"LogReg Model:\")\n",
    "print(\"Acurácia = {0:0.3f}\".format(report[\"accuracy\"]))\n",
    "print(\"Precisão = {0:0.3f}\".format(report[\"1\"][\"precision\"]))\n",
    "print(\"Especificidade = {0:0.3f}\".format(report[\"1\"][\"recall\"]))\n",
    "print(\"Recall = {0:0.3f}\".format(report[\"1\"][\"recall\"]))\n",
    "print(\"F1-score = {0:0.3f}\".format(report[\"1\"][\"f1-score\"]))"
   ]
  },
  {
   "cell_type": "code",
   "execution_count": 71,
   "metadata": {},
   "outputs": [
    {
     "data": {
      "image/png": "[encoded data removed]",
      "text/plain": [
       "<Figure size 648x432 with 1 Axes>"
      ]
     },
     "metadata": {
      "needs_background": "light"
     },
     "output_type": "display_data"
    }
   ],
   "source": [
    "#helper functions\n",
    "def sigmoid(z):\n",
    "    sigma = 1 / (1 + np.exp(-z))\n",
    "    return sigma\n",
    "\n",
    "def threshold(z,threshold):\n",
    "    thr = 0*z+threshold\n",
    "    return thr\n",
    "\n",
    "#create plot to show how class prediction changes depending on where threshold is set\n",
    "x_val = np.linspace(-10, 10, 10000)\n",
    "\n",
    "fig = plt.figure(figsize = (9,6))\n",
    "plt.plot(x_val, sigmoid(x_val))\n",
    "plt.plot(x_val, threshold(x_val,0.5), ls='--')\n",
    "plt.plot(x_val, threshold(x_val,0.1), ls='--')\n",
    "plt.ylabel('Probabilidade de Doença',size=14)\n",
    "plt.xlabel('Dados de Entrada',size=14)\n",
    "ax = plt.gca()\n",
    "ax.grid(False)\n",
    "ax.margins(0.008)\n",
    "ax.get_xaxis().set_ticks([])\n",
    "plt.show()"
   ]
  },
  {
   "cell_type": "code",
   "execution_count": 73,
   "metadata": {},
   "outputs": [
    {
     "name": "stdout",
     "output_type": "stream",
     "text": [
      "Threshold probability of 0.1:\n",
      "Acurácia = 0.665\n",
      "Precisão = 0.621\n",
      "Especificidade = 0.991\n",
      "Recall = 0.991\n",
      "F1-score = 0.764\n"
     ]
    }
   ],
   "source": [
    "#creating new class predictions (from prediction probabilities) with a threshold of 0.1 \n",
    "pred_logis_1 = (pred_prob[:,1] >= 0.1).astype(int)\n",
    "\n",
    "#generating another report, this time for threshold = 0.1\n",
    "report = classification_report(y_test,pred_logis_1,digits=3,output_dict = True)\n",
    "\n",
    "print(\"Threshold probability of 0.1:\")\n",
    "print(\"Acurácia = {0:0.3f}\".format(report[\"accuracy\"]))\n",
    "print(\"Precisão = {0:0.3f}\".format(report[\"1\"][\"precision\"]))\n",
    "print(\"Especificidade = {0:0.3f}\".format(report[\"1\"][\"recall\"]))\n",
    "print(\"Recall = {0:0.3f}\".format(report[\"1\"][\"recall\"]))\n",
    "print(\"F1-score = {0:0.3f}\".format(report[\"1\"][\"f1-score\"]))"
   ]
  },
  {
   "cell_type": "code",
   "execution_count": 77,
   "metadata": {},
   "outputs": [
    {
     "data": {
      "image/png": "[encoded data removed]",
      "text/plain": [
       "<Figure size 720x504 with 1 Axes>"
      ]
     },
     "metadata": {
      "needs_background": "light"
     },
     "output_type": "display_data"
    }
   ],
   "source": [
    "#Plotting the ROC curve\n",
    "\n",
    "#Generating points to plot on ROC curve (logistic model)\n",
    "fpr_logis, tpr_logis, thresholds_logis = roc_curve(y_test, pred_prob[:,1])\n",
    "fig, ax = plt.subplots(figsize = (10,7))\n",
    "#plotting the \"guessing\" model\n",
    "plt.plot([1, 2], [1, 2], 'k--')\n",
    "#plotting the logistic model\n",
    "plt.plot(fpr_logis, tpr_logis)\n",
    "plt.fill_between(fpr_logis, tpr_logis, alpha=0.2, color='b')\n",
    "plt.xlabel('Falso Positivo Rate')\n",
    "plt.ylabel('Verdadeiro Positive Rate')\n",
    "plt.title('ROC curve: AUC={0:0.3f}'.format(roc_auc_score(y_test,pred_prob[:,1])))\n",
    "plt.show()"
   ]
  },
  {
   "cell_type": "code",
   "execution_count": 82,
   "metadata": {},
   "outputs": [
    {
     "data": {
      "image/png": "[encoded data removed]",
      "text/plain": [
       "<Figure size 720x504 with 1 Axes>"
      ]
     },
     "metadata": {
      "needs_background": "light"
     },
     "output_type": "display_data"
    }
   ],
   "source": [
    "#Plot PR curve\n",
    "\n",
    "#Generating points to plot on recall precision curve\n",
    "precision, recall, thresholds = precision_recall_curve(y_test, logis_pred_prob[:,1])\n",
    "average_precision = average_precision_score(y_test, logis_pred_prob[:,1])\n",
    "\n",
    "#its a step function so plotting is different \n",
    "fig, ax = plt.subplots(figsize = (10,7))\n",
    "step_kwargs = ({'step': 'post'}\n",
    "               if 'step' in signature(plt.fill_between).parameters\n",
    "               else {})\n",
    "plt.step(recall, precision, color='orange', alpha=1,\n",
    "         where='post')\n",
    "plt.fill_between(recall, precision, alpha=0.2, color='purple', **step_kwargs)\n",
    "\n",
    "plt.xlabel('Recall')\n",
    "plt.ylabel('Precision')\n",
    "plt.ylim([0.0, 1.05])\n",
    "plt.xlim([0.0, 1.0])\n",
    "plt.title('Precision-Recall curve: Average Precision={0:0.3f}'.format(average_precision))\n",
    "plt.show()"
   ]
  },
  {
   "cell_type": "code",
   "execution_count": null,
   "metadata": {},
   "outputs": [],
   "source": []
  }
 ],
 "metadata": {
  "kernelspec": {
   "display_name": "Python 3",
   "language": "python",
   "name": "python3"
  },
  "language_info": {
   "codemirror_mode": {
    "name": "ipython",
    "version": 3
   },
   "file_extension": ".py",
   "mimetype": "text/x-python",
   "name": "python",
   "nbconvert_exporter": "python",
   "pygments_lexer": "ipython3",
   "version": "3.7.4"
  }
 },
 "nbformat": 4,
 "nbformat_minor": 2
}
